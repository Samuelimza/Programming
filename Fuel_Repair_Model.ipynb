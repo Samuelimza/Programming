{
  "nbformat": 4,
  "nbformat_minor": 0,
  "metadata": {
    "colab": {
      "name": "Untitled8.ipynb",
      "provenance": [],
      "collapsed_sections": [],
      "authorship_tag": "ABX9TyMS/O9ocLpXohCnxFBYJR32"
    },
    "kernelspec": {
      "name": "python3",
      "display_name": "Python 3"
    }
  },
  "cells": [
    {
      "cell_type": "code",
      "metadata": {
        "id": "PorAd5Rt_5kq"
      },
      "source": [
        "def mock_fuel_function(x):\n",
        "    x1 = x[0][0]\n",
        "    x2 = x[0][1]\n",
        "\n",
        "    y1 = 6*x1 * 8*x2 + (2*x1 + 7*x2) / (x1 - x2 + 3.2)\n",
        "    y2 = 8*x1 * 2*x2 + (5*x1 + 3*x2) / (x1 - x2 + 6.3)\n",
        "    y3 = 4*x1 * 3*x2 + (3*x1 + 2*x2) / (x1 - x2 + 4.1)\n",
        "    y4 = 2*x1 * 6*x2 + (7*x1 + 5*x2) / (x1 - x2 + 5.2)\n",
        "    y5 = 4*x1 * 8*x2 + (2*x1 + 5*x2) / (x1 - x2 + 4.7)\n",
        "\n",
        "    y = np.array([[y1,y2,y3,y4,y5]])\n",
        "    \n",
        "    return y\n",
        "\n",
        "def mock_repair_freq_function(x):\n",
        "    x1 = x[0][0]\n",
        "    x2 = x[0][1]\n",
        "    x3 = x[0][2]\n",
        "    x4 = x[0][3]\n",
        "\n",
        "    y1 = 6*x1 * 8*x2 + (2*x3 + 7*x4) / (x3 - x1 + 3.2)\n",
        "    y2 = 8*x1 * 2*x2 + (5*x3 + 3*x4) / (x4 - x2 + 6.3)\n",
        "    y3 = 4*x1 * 3*x2 + (3*x3 + 2*x4) / (x3 - x1 + 4.1)\n",
        "    y4 = 2*x1 * 6*x2 + (7*x3 + 5*x4) / (x4 - x1 + 5.2)\n",
        "    y5 = 4*x1 * 8*x2 + (2*x3 + 5*x4) / (x3 - x2 + 4.7)\n",
        "\n",
        "    y = np.array([[y1,y2,y3,y4,y5]])\n",
        "    \n",
        "    return y"
      ],
      "execution_count": 85,
      "outputs": []
    },
    {
      "cell_type": "code",
      "metadata": {
        "id": "KYOxH8xe_cA5"
      },
      "source": [
        "data1 = np.array([[1, 2, 1, 2, 3, 4, 5]])\n",
        "data2 = np.array([[1, 2, 3, 4, 1, 2, 3, 4, 5]])\n",
        "for i in range(1000):\n",
        "    x = np.random.rand(1,2)\n",
        "    data1 = np.append(data1, np.append(x, mock_fuel_function(x), axis = 1), axis = 0)\n",
        "    x = np.random.rand(1,4)\n",
        "    data2 = np.append(data2, np.append(x, mock_repair_freq_function(x), axis = 1), axis = 0)"
      ],
      "execution_count": null,
      "outputs": []
    },
    {
      "cell_type": "code",
      "metadata": {
        "id": "s3RUV_sN_1Ys"
      },
      "source": [
        "from keras.models import Sequential\n",
        "from keras.layers import Dense\n",
        "from matplotlib import pyplot\n",
        "import numpy as np\n",
        "\n",
        "X_fuel = data1[:,0:2]\n",
        "y_fuel = data1[:,2:]\n",
        "\n",
        "# define the keras model\n",
        "model_fuel = Sequential()\n",
        "model_fuel.add(Dense(12, input_dim=2, activation='relu'))\n",
        "model_fuel.add(Dense(8, activation='relu'))\n",
        "model_fuel.add(Dense(12, activation='relu'))\n",
        "model_fuel.add(Dense(5, activation='relu'))\n",
        "\n",
        "# compile the keras model\n",
        "model_fuel.compile(loss='mse', optimizer='adam', metrics=['accuracy', 'mse'])\n",
        "model_fuel.summary()\n",
        "\n",
        "history = model_fuel.fit(X, y, epochs=15, batch_size=10, verbose = 2)\n",
        "# plot metrics\n",
        "pyplot.plot(history.history['mse'])\n",
        "pyplot.show()\n",
        "\n",
        "# evaluate the keras model\n",
        "_, accuracy, _ = model_fuel.evaluate(X, y)\n",
        "print('Accuracy: %.2f' % (accuracy*100))\n",
        "\n",
        "\n",
        "X_repair = data1[:,0:4]\n",
        "y_repair = data1[:,4:]\n",
        "\n",
        "# define the keras model\n",
        "model_repair = Sequential()\n",
        "model_repair.add(Dense(12, input_dim=2, activation='relu'))\n",
        "model_repair.add(Dense(8, activation='relu'))\n",
        "model_repair.add(Dense(12, activation='relu'))\n",
        "model_repair.add(Dense(5, activation='relu'))\n",
        "\n",
        "# compile the keras model\n",
        "model_repair.compile(loss='mse', optimizer='adam', metrics=['accuracy', 'mse'])\n",
        "\n",
        "history = model_repair.fit(X, y, epochs=15, batch_size=10, verbose = 2)\n",
        "\n",
        "# plot metrics\n",
        "pyplot.plot(history.history['mse'])\n",
        "pyplot.show()\n",
        "\n",
        "# evaluate the keras model\n",
        "_, accuracy, _ = model_repair.evaluate(X, y)\n",
        "print('Accuracy: %.2f' % (accuracy*100))"
      ],
      "execution_count": null,
      "outputs": []
    }
  ]
}